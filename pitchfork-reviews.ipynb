{
 "cells": [
  {
   "cell_type": "code",
   "execution_count": 1,
   "metadata": {},
   "outputs": [
    {
     "name": "stdout",
     "output_type": "stream",
     "text": [
      "Using pip 23.1.2 from /Users/mechaneyes/Documents/ Projects/Third Bridge Creative/Mechaneyes RAG Bridge/langchain-retrieval-augmentation/.venv/lib/python3.11/site-packages/pip (python 3.11)\n",
      "Requirement already satisfied: datasets in ./.venv/lib/python3.11/site-packages (2.12.0)\n",
      "Requirement already satisfied: pandas in ./.venv/lib/python3.11/site-packages (2.0.2)\n",
      "Requirement already satisfied: numpy>=1.17 in ./.venv/lib/python3.11/site-packages (from datasets) (1.24.3)\n",
      "Requirement already satisfied: pyarrow>=8.0.0 in ./.venv/lib/python3.11/site-packages (from datasets) (12.0.1)\n",
      "Requirement already satisfied: dill<0.3.7,>=0.3.0 in ./.venv/lib/python3.11/site-packages (from datasets) (0.3.6)\n",
      "Requirement already satisfied: requests>=2.19.0 in ./.venv/lib/python3.11/site-packages (from datasets) (2.31.0)\n",
      "Requirement already satisfied: tqdm>=4.62.1 in ./.venv/lib/python3.11/site-packages (from datasets) (4.65.0)\n",
      "Requirement already satisfied: xxhash in ./.venv/lib/python3.11/site-packages (from datasets) (3.2.0)\n",
      "Requirement already satisfied: multiprocess in ./.venv/lib/python3.11/site-packages (from datasets) (0.70.14)\n",
      "Requirement already satisfied: fsspec[http]>=2021.11.1 in ./.venv/lib/python3.11/site-packages (from datasets) (2023.6.0)\n",
      "Requirement already satisfied: aiohttp in ./.venv/lib/python3.11/site-packages (from datasets) (3.8.4)\n",
      "Requirement already satisfied: huggingface-hub<1.0.0,>=0.11.0 in ./.venv/lib/python3.11/site-packages (from datasets) (0.15.1)\n",
      "Requirement already satisfied: packaging in ./.venv/lib/python3.11/site-packages (from datasets) (23.1)\n",
      "Requirement already satisfied: responses<0.19 in ./.venv/lib/python3.11/site-packages (from datasets) (0.18.0)\n",
      "Requirement already satisfied: pyyaml>=5.1 in ./.venv/lib/python3.11/site-packages (from datasets) (6.0)\n",
      "Requirement already satisfied: python-dateutil>=2.8.2 in ./.venv/lib/python3.11/site-packages (from pandas) (2.8.2)\n",
      "Requirement already satisfied: pytz>=2020.1 in ./.venv/lib/python3.11/site-packages (from pandas) (2023.3)\n",
      "Requirement already satisfied: tzdata>=2022.1 in ./.venv/lib/python3.11/site-packages (from pandas) (2023.3)\n",
      "Requirement already satisfied: attrs>=17.3.0 in ./.venv/lib/python3.11/site-packages (from aiohttp->datasets) (23.1.0)\n",
      "Requirement already satisfied: charset-normalizer<4.0,>=2.0 in ./.venv/lib/python3.11/site-packages (from aiohttp->datasets) (3.1.0)\n",
      "Requirement already satisfied: multidict<7.0,>=4.5 in ./.venv/lib/python3.11/site-packages (from aiohttp->datasets) (6.0.4)\n",
      "Requirement already satisfied: async-timeout<5.0,>=4.0.0a3 in ./.venv/lib/python3.11/site-packages (from aiohttp->datasets) (4.0.2)\n",
      "Requirement already satisfied: yarl<2.0,>=1.0 in ./.venv/lib/python3.11/site-packages (from aiohttp->datasets) (1.9.2)\n",
      "Requirement already satisfied: frozenlist>=1.1.1 in ./.venv/lib/python3.11/site-packages (from aiohttp->datasets) (1.3.3)\n",
      "Requirement already satisfied: aiosignal>=1.1.2 in ./.venv/lib/python3.11/site-packages (from aiohttp->datasets) (1.3.1)\n",
      "Requirement already satisfied: filelock in ./.venv/lib/python3.11/site-packages (from huggingface-hub<1.0.0,>=0.11.0->datasets) (3.12.2)\n",
      "Requirement already satisfied: typing-extensions>=3.7.4.3 in ./.venv/lib/python3.11/site-packages (from huggingface-hub<1.0.0,>=0.11.0->datasets) (4.6.3)\n",
      "Requirement already satisfied: six>=1.5 in ./.venv/lib/python3.11/site-packages (from python-dateutil>=2.8.2->pandas) (1.16.0)\n",
      "Requirement already satisfied: idna<4,>=2.5 in ./.venv/lib/python3.11/site-packages (from requests>=2.19.0->datasets) (3.4)\n",
      "Requirement already satisfied: urllib3<3,>=1.21.1 in ./.venv/lib/python3.11/site-packages (from requests>=2.19.0->datasets) (2.0.3)\n",
      "Requirement already satisfied: certifi>=2017.4.17 in ./.venv/lib/python3.11/site-packages (from requests>=2.19.0->datasets) (2023.5.7)\n",
      "Note: you may need to restart the kernel to use updated packages.\n"
     ]
    }
   ],
   "source": [
    "%pip install datasets pandas --verbose"
   ]
  },
  {
   "attachments": {},
   "cell_type": "markdown",
   "metadata": {},
   "source": [
    "#### Sunday, 18 Jun 2023 11.46.55 AM PDT\n",
    "The commented out code below was me processing the database, combining elements from 2 tables.\n",
    "\n",
    "what i've just done is to duplicate the 'content' column giving it a new name, 'text'. i've done this because i'm getting a langchain error which is described here:\n",
    "\n",
    ">\n",
    ">Pinecone doesn't store documents explicitly; it only stores ids, embeddings, and metadata. So, if when querying Pinecone you'd like to have access to the documents themselves, you should add them to the metadata, as illustrated here. If you add them under a text key in the metadata, the KeyError should resolve.\n",
    ">\n",
    ">Alternatively, you can specify your own key name when you initialize Pinecone, via text_str. Code reference is here.\n",
    ">https://github.com/hwchase17/langchain/issues/3460#issuecomment-1583471622\n",
    ">"
   ]
  },
  {
   "cell_type": "code",
   "execution_count": 8,
   "metadata": {},
   "outputs": [],
   "source": [
    "import sqlite3\n",
    "import pandas as pd\n",
    "\n",
    "# Connect to the SQLite database\n",
    "# con = sqlite3.connect('./pitchforkSqliteDB.sqlite')\n",
    "\n",
    "# df_content = pd.read_sql_query(\"SELECT * from content\", con)\n",
    "# df_content.to_sql('content', con, if_exists='replace', index=False)\n",
    "\n",
    "# df_reviews = pd.read_sql_query(\"SELECT * from reviews\", con)\n",
    "# df_reviews.to_sql('reviews', con, if_exists='replace', index=False)\n",
    "\n",
    "\n",
    "\n",
    "# Execute a SQL JOIN statement to combine the 'content' and 'reviews' tables\n",
    "# query = '''\n",
    "# SELECT content.*, reviews.reviewid AS reviewid2, reviews.title, reviews.artist, reviews.url, reviews.score, reviews.author, reviews.pub_date\n",
    "# FROM content\n",
    "# JOIN reviews\n",
    "# ON content.reviewid = reviews.reviewid\n",
    "# '''\n",
    "\n",
    "# df_combined = pd.read_sql_query(query, con)\n",
    "# df_combined.to_sql('combined', con, if_exists='replace', index=False)\n",
    "\n",
    "\n",
    "\n",
    "con = sqlite3.connect('./pitchforkSqliteDB_KeyError.sqlite')\n",
    "con.execute('ALTER TABLE combined ADD COLUMN text TEXT')\n",
    "con.execute('UPDATE combined SET text = content')\n",
    "\n",
    "df = pd.read_sql_query('SELECT * FROM combined', con)\n",
    "df.to_sql('combined', con, if_exists='replace', index=False)\n",
    "\n",
    "con.close()\n",
    "\n",
    "\n",
    "uri = \"sqlite:///pitchforkSqliteDB_KeyError.sqlite\"\n"
   ]
  },
  {
   "cell_type": "code",
   "execution_count": 9,
   "metadata": {},
   "outputs": [
    {
     "name": "stdout",
     "output_type": "stream",
     "text": [
      "Downloading and preparing dataset sql/default to /Users/mechaneyes/.cache/huggingface/datasets/sql/default-50c1a087d4fafb25/0.0.0...\n"
     ]
    },
    {
     "name": "stderr",
     "output_type": "stream",
     "text": [
      "                                                                   \r"
     ]
    },
    {
     "name": "stdout",
     "output_type": "stream",
     "text": [
      "Dataset sql downloaded and prepared to /Users/mechaneyes/.cache/huggingface/datasets/sql/default-50c1a087d4fafb25/0.0.0. Subsequent calls will reuse this data.\n",
      "Downloading and preparing dataset sql/default to /Users/mechaneyes/.cache/huggingface/datasets/sql/default-df6c13886ace8cc3/0.0.0...\n"
     ]
    },
    {
     "name": "stderr",
     "output_type": "stream",
     "text": [
      "                                                        \r"
     ]
    },
    {
     "name": "stdout",
     "output_type": "stream",
     "text": [
      "Dataset sql downloaded and prepared to /Users/mechaneyes/.cache/huggingface/datasets/sql/default-df6c13886ace8cc3/0.0.0. Subsequent calls will reuse this data.\n",
      "Downloading and preparing dataset sql/default to /Users/mechaneyes/.cache/huggingface/datasets/sql/default-6f44b1a3e7e8b5cc/0.0.0...\n"
     ]
    },
    {
     "name": "stderr",
     "output_type": "stream",
     "text": [
      "                                                                   "
     ]
    },
    {
     "name": "stdout",
     "output_type": "stream",
     "text": [
      "Dataset sql downloaded and prepared to /Users/mechaneyes/.cache/huggingface/datasets/sql/default-6f44b1a3e7e8b5cc/0.0.0. Subsequent calls will reuse this data.\n"
     ]
    },
    {
     "name": "stderr",
     "output_type": "stream",
     "text": [
      "\r"
     ]
    },
    {
     "data": {
      "text/plain": [
       "{'reviewid': 22724,\n",
       " 'content': \"There were innumerable cameos at the Bad Boy Family Reunion Tour, but as is often the case with nostalgia packages, “the inexorable march of time” stole the show. Shyne lip-synced “Bad Boyz” in exile from Belize. Lil’ Kim was as magnetic as ever, but tragically so, going blank during large portions of her past hits. While DMX and Ruff Ryders’ constant shirtlessness and bloody-knuckled Casio beats were a\\xa0corrective to hip-hop’s sample-happy Shiny Suit era, with enough distance, they could all be lumped together as “late ’90s NYC rap.” And most bizarre of all were the once-estranged Lox\\xa0screaming “if you glad that L-O-X\\xa0is Ruff Ryders now!” during “Wild Out,” their first single after a nasty, public and possibly violent extrication from Bad Boy—referred to as “Rape'n U Records” on the subsequent\\xa0We Are the Streets. Now signed to Roc Nation, the Lox are once again close to the locus of money, power and respect, affiliated with their third megastar-owned hip-hop conglomerate in as many albums. Their bizarre career is probably their biggest asset at this point and they have a hell of a story to tell. Filthy America...It’s Beautiful has little interest in telling it.\\xa0No longer subject to the commercial expectations of their late-90s heyday, they should be able to talk directly to an audience for whom the first Lox album in nearly 17 years is “highly anticipated.” There’s enough time-stamped gossip in “What Else You Need to Know” to reward people who remember the narcissism of small differences fueling the D-Block and State Property beef and, yes, Sheek Louch utters the magic words “bring New York back.” More importantly, the voices and the wordplay\\xa0of Styles P, Jadakiss, and Sheek have aged not one bit since 2000—no mean feat if you’ve tried to talk yourself into a recent Wu-Tang or DipSet project, or hell, just skip to Prodigy sounding like a wax figure of himself on “Hard Life.”Even within the narrow narrative structure on “What Else You Need to Know,” the chemistry between the trio is still a marvel. Jadakiss’ rasp remains one of hip-hop’s most indelible vocal instruments, a blank-faced menace even during the vast majority of Filthy America\\xa0when\\xa0he isn’t saying much of anything. Styles P’s wearied nihilism has naturally gotten more potent with age and as for Sheek...well, the bullish enthusiasm he shows for even his clumsiest rhymes is actually endearing at this point, providing an emotional immediacy to balance out his more reserved partners. He even knows he’s the third wheel—in fact, that’s exactly what he talks about on “What Else You Need to Know,” admitting he thought the “All About the Benjamins” beat was wack (they never had much of an ear for beats), weathering constructive criticism and chalking up his obvious exclusion from “Jenny from the Block” and “John Blaze” to knowing his role. You’d be hard pressed to find another example of a hardcore rapper taking an L with such dignity.All of this material would make for a fascinating interview on Hot 97, though it’s preceded by just that, the interminable “Stupid Questions” proving that the Lox are still the most tone deaf\\xa0skit-makers in rap history. But because it’s a Lox track on a proper studio album, “What Else You Need to Know” is a reminder of the skill set separating great rappers from great songwriters. Like much of Filthy America, it’s saddled with an awkward hook and the kind of stainless steel, geographically non-specific, vaguely “futuristic” synth beats you typically hear from once commercially-viable rappers on the album after they’re no longer privy to A-list producers. Granted, Dame Grease and Pete Rock might be permanent A-listers to some, but their presence is only felt after reading the credits. And then there’s DJ Premier on the ironically titled “Move Forward.” If hearing Styles bitch about “mumbling rappers/DJs with the aux cord” still makes you want to pull irresponsible ATV tricks in celebration, it’ll be a pleasure to hear any Premo beat in 2016 because you know exactly what you’re getting. At the same time, you have to wonder what that’s worth when Premo’s 2016 output has been split between territorial flame-keepers like Royce 5'9\\xa0and\\xa0remixes of Desiigner and Twenty One Pilots.The Lox are spared similar indignities here—Fetty Wap and Gucci Mane could churn out tracks like “The Agreement” and “Secure the Bag” ten times over in the span of a month and their appearances show the Lox have an interest in contemporary rappers without chasing contemporary trends. But maligned as they were for playing dress-up with both Bad Boy and Ruff Ryders—too grimy for the former, too conventional for the avant-Tunnel Banger phase of the latter—their commercial ambitions were the solution, not the problem. The Lox’s most beloved songs—“Money, Power and Respect,” “Wild Out,” “We Gonna Make It,” “Good Times”— provided state-of-the-art beats, ready-made hooks, and most importantly, direction for a group whose artistic zenith is probably a collection of radio freestyles.Otherwise, despite no longer being required to\\xa0stuff a $17.99 compact disc to capacity, the Lox still have a way of making at least half of Filthy America feel like filler. They’re far more interesting characters than they let on: Styles P wrote a novel\\xa0on his Blackberry and also opened a juice bar with Jadakiss. Surely the ins and outs of franchising would make for more interesting material than the “concept tracks” or production choices here, all of which seem designed to recall 1999 —“Hard Life” is Dame Grease blatantly Xeroxing “It’s Mine”; “Move Forward” is “Recognize Pt. II,” while “The Family,”\\xa0“The Omen,”\\xa0and the courtroom procedural “Filthy America” have precedents that can be easily identified by even casual rap consumers from the late ‘90s. But while both Styles and Jadakiss are capable of coming up with a scene-stealing guest verse or two every year—see: Schoolboy Q’s “Groovy Tony/Eddie Kane,” the “Ooouuu” remix—they know damn well that’s what keeps their career going\\xa0at this point\\xa0and they know better than to waste their best material here. The Lox have never lived up to their potential and they certainly aren’t going to start now.\",\n",
       " 'reviewid2': 22724,\n",
       " 'title': 'filthy america its beautiful',\n",
       " 'artist': 'the lox',\n",
       " 'url': 'http://pitchfork.com/reviews/albums/22724-filthy-america-its-beautiful/',\n",
       " 'score': 5.3,\n",
       " 'author': 'ian cohen',\n",
       " 'pub_date': '2017-01-04',\n",
       " 'text': \"There were innumerable cameos at the Bad Boy Family Reunion Tour, but as is often the case with nostalgia packages, “the inexorable march of time” stole the show. Shyne lip-synced “Bad Boyz” in exile from Belize. Lil’ Kim was as magnetic as ever, but tragically so, going blank during large portions of her past hits. While DMX and Ruff Ryders’ constant shirtlessness and bloody-knuckled Casio beats were a\\xa0corrective to hip-hop’s sample-happy Shiny Suit era, with enough distance, they could all be lumped together as “late ’90s NYC rap.” And most bizarre of all were the once-estranged Lox\\xa0screaming “if you glad that L-O-X\\xa0is Ruff Ryders now!” during “Wild Out,” their first single after a nasty, public and possibly violent extrication from Bad Boy—referred to as “Rape'n U Records” on the subsequent\\xa0We Are the Streets. Now signed to Roc Nation, the Lox are once again close to the locus of money, power and respect, affiliated with their third megastar-owned hip-hop conglomerate in as many albums. Their bizarre career is probably their biggest asset at this point and they have a hell of a story to tell. Filthy America...It’s Beautiful has little interest in telling it.\\xa0No longer subject to the commercial expectations of their late-90s heyday, they should be able to talk directly to an audience for whom the first Lox album in nearly 17 years is “highly anticipated.” There’s enough time-stamped gossip in “What Else You Need to Know” to reward people who remember the narcissism of small differences fueling the D-Block and State Property beef and, yes, Sheek Louch utters the magic words “bring New York back.” More importantly, the voices and the wordplay\\xa0of Styles P, Jadakiss, and Sheek have aged not one bit since 2000—no mean feat if you’ve tried to talk yourself into a recent Wu-Tang or DipSet project, or hell, just skip to Prodigy sounding like a wax figure of himself on “Hard Life.”Even within the narrow narrative structure on “What Else You Need to Know,” the chemistry between the trio is still a marvel. Jadakiss’ rasp remains one of hip-hop’s most indelible vocal instruments, a blank-faced menace even during the vast majority of Filthy America\\xa0when\\xa0he isn’t saying much of anything. Styles P’s wearied nihilism has naturally gotten more potent with age and as for Sheek...well, the bullish enthusiasm he shows for even his clumsiest rhymes is actually endearing at this point, providing an emotional immediacy to balance out his more reserved partners. He even knows he’s the third wheel—in fact, that’s exactly what he talks about on “What Else You Need to Know,” admitting he thought the “All About the Benjamins” beat was wack (they never had much of an ear for beats), weathering constructive criticism and chalking up his obvious exclusion from “Jenny from the Block” and “John Blaze” to knowing his role. You’d be hard pressed to find another example of a hardcore rapper taking an L with such dignity.All of this material would make for a fascinating interview on Hot 97, though it’s preceded by just that, the interminable “Stupid Questions” proving that the Lox are still the most tone deaf\\xa0skit-makers in rap history. But because it’s a Lox track on a proper studio album, “What Else You Need to Know” is a reminder of the skill set separating great rappers from great songwriters. Like much of Filthy America, it’s saddled with an awkward hook and the kind of stainless steel, geographically non-specific, vaguely “futuristic” synth beats you typically hear from once commercially-viable rappers on the album after they’re no longer privy to A-list producers. Granted, Dame Grease and Pete Rock might be permanent A-listers to some, but their presence is only felt after reading the credits. And then there’s DJ Premier on the ironically titled “Move Forward.” If hearing Styles bitch about “mumbling rappers/DJs with the aux cord” still makes you want to pull irresponsible ATV tricks in celebration, it’ll be a pleasure to hear any Premo beat in 2016 because you know exactly what you’re getting. At the same time, you have to wonder what that’s worth when Premo’s 2016 output has been split between territorial flame-keepers like Royce 5'9\\xa0and\\xa0remixes of Desiigner and Twenty One Pilots.The Lox are spared similar indignities here—Fetty Wap and Gucci Mane could churn out tracks like “The Agreement” and “Secure the Bag” ten times over in the span of a month and their appearances show the Lox have an interest in contemporary rappers without chasing contemporary trends. But maligned as they were for playing dress-up with both Bad Boy and Ruff Ryders—too grimy for the former, too conventional for the avant-Tunnel Banger phase of the latter—their commercial ambitions were the solution, not the problem. The Lox’s most beloved songs—“Money, Power and Respect,” “Wild Out,” “We Gonna Make It,” “Good Times”— provided state-of-the-art beats, ready-made hooks, and most importantly, direction for a group whose artistic zenith is probably a collection of radio freestyles.Otherwise, despite no longer being required to\\xa0stuff a $17.99 compact disc to capacity, the Lox still have a way of making at least half of Filthy America feel like filler. They’re far more interesting characters than they let on: Styles P wrote a novel\\xa0on his Blackberry and also opened a juice bar with Jadakiss. Surely the ins and outs of franchising would make for more interesting material than the “concept tracks” or production choices here, all of which seem designed to recall 1999 —“Hard Life” is Dame Grease blatantly Xeroxing “It’s Mine”; “Move Forward” is “Recognize Pt. II,” while “The Family,”\\xa0“The Omen,”\\xa0and the courtroom procedural “Filthy America” have precedents that can be easily identified by even casual rap consumers from the late ‘90s. But while both Styles and Jadakiss are capable of coming up with a scene-stealing guest verse or two every year—see: Schoolboy Q’s “Groovy Tony/Eddie Kane,” the “Ooouuu” remix—they know damn well that’s what keeps their career going\\xa0at this point\\xa0and they know better than to waste their best material here. The Lox have never lived up to their potential and they certainly aren’t going to start now.\"}"
      ]
     },
     "execution_count": 9,
     "metadata": {},
     "output_type": "execute_result"
    }
   ],
   "source": [
    "from datasets import Dataset\n",
    "\n",
    "ds = Dataset.from_sql(\"content\", uri)\n",
    "ds_reviews = Dataset.from_sql(\"reviews\", uri)\n",
    "ds_combined = Dataset.from_sql(\"combined\", uri)\n",
    "\n",
    "len(ds_combined)\n",
    "# len(ds_reviewws)\n",
    "\n",
    "ds_combined[9]\n"
   ]
  },
  {
   "cell_type": "code",
   "execution_count": 3,
   "metadata": {},
   "outputs": [
    {
     "name": "stdout",
     "output_type": "stream",
     "text": [
      "Note: you may need to restart the kernel to use updated packages.\n"
     ]
    }
   ],
   "source": [
    "%pip install -qU \\\n",
    "  langchain==0.0.162 \\\n",
    "  openai==0.27.7 \\\n",
    "  tiktoken==0.4.0 \\\n",
    "  \"pinecone-client[grpc]\"==2.2.1"
   ]
  },
  {
   "attachments": {},
   "cell_type": "markdown",
   "metadata": {},
   "source": [
    "## tokenizer\n",
    "\n",
    "A token is typically the size of a word or sub-word and varies by LLM. The tokens themselves are built using a tokenizer. We will be using gpt-3.5-turbo as our completion model. We will initialize the tokenizer then create tokens from plain text and count the number of tokens. We will wrap this into a function called `tiktoken_len`"
   ]
  },
  {
   "cell_type": "code",
   "execution_count": 10,
   "metadata": {},
   "outputs": [
    {
     "data": {
      "text/plain": [
       "<Encoding 'cl100k_base'>"
      ]
     },
     "execution_count": 10,
     "metadata": {},
     "output_type": "execute_result"
    }
   ],
   "source": [
    "import tiktoken\n",
    "\n",
    "tiktoken.encoding_for_model('gpt-3.5-turbo')"
   ]
  },
  {
   "cell_type": "code",
   "execution_count": 11,
   "metadata": {},
   "outputs": [
    {
     "data": {
      "text/plain": [
       "26"
      ]
     },
     "execution_count": 11,
     "metadata": {},
     "output_type": "execute_result"
    }
   ],
   "source": [
    "import tiktoken  # !pip install tiktoken\n",
    "\n",
    "tokenizer = tiktoken.get_encoding('cl100k_base')\n",
    "\n",
    "# create the length function\n",
    "def tiktoken_len(text):\n",
    "    tokens = tokenizer.encode(\n",
    "        text,\n",
    "        disallowed_special=()\n",
    "    )\n",
    "    return len(tokens)\n",
    "\n",
    "tiktoken_len(\"hello I am a chunk of text and using the tiktoken_len function \"\n",
    "             \"we can find the length of this chunk of text in tokens\")"
   ]
  },
  {
   "attachments": {},
   "cell_type": "markdown",
   "metadata": {},
   "source": [
    "<br /><br />\n",
    "\n",
    "## text_splitter"
   ]
  },
  {
   "cell_type": "code",
   "execution_count": 12,
   "metadata": {},
   "outputs": [],
   "source": [
    "from langchain.text_splitter import RecursiveCharacterTextSplitter\n",
    "\n",
    "text_splitter = RecursiveCharacterTextSplitter(\n",
    "    chunk_size=400,\n",
    "    chunk_overlap=20,\n",
    "    length_function=tiktoken_len,\n",
    "    separators=[\"\\n\\n\", \"\\n\", \" \", \"\"]\n",
    ")"
   ]
  },
  {
   "cell_type": "code",
   "execution_count": 13,
   "metadata": {},
   "outputs": [
    {
     "data": {
      "text/plain": [
       "['“Trip-hop” eventually became a ’90s punchline, a music-press shorthand for “overhyped hotel lounge music.” But today, the much-maligned subgenre almost feels like a secret precedent. Listen to any of the canonical Bristol-scene albums of the mid-late ’90s, when the genre was starting to chafe against its boundaries, and you’d think the claustrophobic, anxious 21st century started a few years ahead of schedule. Looked at from the right angle, trip-hop\\xa0is part of an unbroken chain that runs from the abrasion of ’80s post-punk to the ruminative pop-R&B-dance fusion of the moment.\\xa0The best of it has aged far more gracefully (and forcefully) than anything recorded in the waning days of the record industry’s pre-filesharing monomania has any right to. Tricky rebelled against being attached at the hip to a scene he was already looking to shed and decamped for Jamaica to record a more aggressive, bristling-energy mutation of his style in ’96; the name\\xa0Pre-Millennium',\n",
       " \"his style in ’96; the name\\xa0Pre-Millennium Tension is the only obvious thing that tells you it’s two decades old rather than two weeks. And Portishead’s ’97 self-titled saw the stress-fractured voice of Beth Gibbons envisioning romance as codependent, mutually assured destruction while Geoff Barrow sunk into his RZA-noir beats like The Conversation’s Gene Hackman ruminating over his surveillance tapes. This was raw-nerved music, too single-minded and intense to carry an obvious timestamp.\\xa0But Massive Attack were the origin point of the trip-hop movement they and their peers were striving to escape the orbit of, and they nearly tore themselves to shreds in the process. Instead— or maybe as a result—they laid down their going-nova genre's definitive paranoia statement with Mezzanine. The band's third album (not counting the Mad Professor-remixed No Protection) completes the last in a sort of de facto Bristol trilogy, where Tricky’s youthful iconoclasm and Portishead’s deep-focus\",\n",
       " \"youthful iconoclasm and Portishead’s deep-focus emotional intensity set the scene for Massive Attack’s sense of near-suffocating dread. The album corroded their tendencies to make big-wheel hymnals of interconnected lives where hope and despair trade precedent—on Mezzanine, it’s alienation all the way down. There’s no safety from harm here, nothing you’ve got to be thankful for, nobody to take the force of the blow: what Mezzanine provides instead is a succession of parties and relationships and panopticons where the walls won’t stop closing in.The lyrics establish this atmosphere all on their own. Sex, in “Inertia Creeps,” is reduced to a meeting of “two undernourished egos, four rotating hips,” the focus of a failing relationship that's left its participants too numbed with their own routine dishonesty to break it off. The voice singing it—Massive Attack's cornerstone co-writer/producer Robert “3D” Del Naja—is raspy from exhaustion. “Dissolved Girl” reiterates this\\xa0theme\"]"
      ]
     },
     "execution_count": 13,
     "metadata": {},
     "output_type": "execute_result"
    }
   ],
   "source": [
    "chunks = text_splitter.split_text(ds_combined[0]['content'])[:3]\n",
    "chunks"
   ]
  },
  {
   "cell_type": "code",
   "execution_count": 14,
   "metadata": {},
   "outputs": [
    {
     "data": {
      "text/plain": [
       "(231, 216, 223)"
      ]
     },
     "execution_count": 14,
     "metadata": {},
     "output_type": "execute_result"
    }
   ],
   "source": [
    "tiktoken_len(chunks[0]), tiktoken_len(chunks[1]), tiktoken_len(chunks[2])"
   ]
  },
  {
   "attachments": {},
   "cell_type": "markdown",
   "metadata": {},
   "source": [
    "<br /><br />\n",
    "\n",
    "# creating embeddings"
   ]
  },
  {
   "cell_type": "code",
   "execution_count": null,
   "metadata": {},
   "outputs": [],
   "source": [
    "%pip install python-dotenv"
   ]
  },
  {
   "cell_type": "code",
   "execution_count": 15,
   "metadata": {},
   "outputs": [],
   "source": [
    "import os\n",
    "from dotenv import load_dotenv\n",
    "from langchain.embeddings.openai import OpenAIEmbeddings\n",
    "\n",
    "load_dotenv()\n",
    "\n",
    "OPENAI_API_KEY = os.getenv(\"OPENAI_API_KEY_RWW\")\n",
    "# print(OPENAI_API_KEY)\n",
    "\n",
    "model_name = 'text-embedding-ada-002'\n",
    "\n",
    "embed = OpenAIEmbeddings(\n",
    "    model=model_name,\n",
    "    openai_api_key=OPENAI_API_KEY\n",
    ")"
   ]
  },
  {
   "cell_type": "code",
   "execution_count": 16,
   "metadata": {},
   "outputs": [
    {
     "data": {
      "text/plain": [
       "(2, 1536)"
      ]
     },
     "execution_count": 16,
     "metadata": {},
     "output_type": "execute_result"
    }
   ],
   "source": [
    "texts = [\n",
    "    'this is the first chunk of text',\n",
    "    'then another second chunk of text is here'\n",
    "]\n",
    "\n",
    "res = embed.embed_documents(texts)\n",
    "len(res), len(res[0])"
   ]
  },
  {
   "attachments": {},
   "cell_type": "markdown",
   "metadata": {},
   "source": [
    "<br /><br />\n",
    "\n",
    "# vector database\n",
    "\n",
    "https://docs.pinecone.io/docs/langchain-retrieval-augmentation#vector-database"
   ]
  },
  {
   "cell_type": "code",
   "execution_count": 17,
   "metadata": {},
   "outputs": [],
   "source": [
    "import pinecone\n",
    "\n",
    "# find API key in console at app.pinecone.io\n",
    "PINECONE_API_KEY = os.getenv('PINECONE_API_KEY') or 'PINECONE_API_KEY'\n",
    "# find ENV (cloud region) next to API key in console\n",
    "PINECONE_ENVIRONMENT = os.getenv('PINECONE_ENVIRONMENT') or 'PINECONE_ENVIRONMENT'\n",
    "\n",
    "index_name = 'pitchfork-rag'\n",
    "pinecone.init(\n",
    "    api_key=PINECONE_API_KEY,\n",
    "    environment=PINECONE_ENVIRONMENT\n",
    ")\n",
    "\n",
    "if index_name not in pinecone.list_indexes():\n",
    "    # we create a new index\n",
    "    pinecone.create_index(\n",
    "        name=index_name,\n",
    "        metric='cosine',\n",
    "        dimension=len(res[0])  # 1536 dim of text-embedding-ada-002\n",
    "    )"
   ]
  },
  {
   "cell_type": "code",
   "execution_count": 21,
   "metadata": {},
   "outputs": [
    {
     "data": {
      "text/plain": [
       "{'dimension': 1536,\n",
       " 'index_fullness': 0.0,\n",
       " 'namespaces': {},\n",
       " 'total_vector_count': 0}"
      ]
     },
     "execution_count": 21,
     "metadata": {},
     "output_type": "execute_result"
    }
   ],
   "source": [
    "index = pinecone.GRPCIndex(index_name)\n",
    "\n",
    "index.describe_index_stats()"
   ]
  },
  {
   "attachments": {},
   "cell_type": "markdown",
   "metadata": {},
   "source": [
    "<br /><br />\n",
    "\n",
    "## indexing\n",
    "\n",
    "https://docs.pinecone.io/docs/langchain-retrieval-augmentation#indexing\n",
    "\n",
    "can do the indexing using the LangChain vector store object. But for now is much faster to do it via the Pinecone python client directly. we're do this in batches of 100 or more."
   ]
  },
  {
   "cell_type": "code",
   "execution_count": 22,
   "metadata": {},
   "outputs": [
    {
     "name": "stderr",
     "output_type": "stream",
     "text": [
      "100%|██████████| 18401/18401 [28:32<00:00, 10.74it/s]\n"
     ]
    }
   ],
   "source": [
    "from tqdm.auto import tqdm\n",
    "from uuid import uuid4\n",
    "import time\n",
    "\n",
    "batch_limit = 100\n",
    "\n",
    "texts = []\n",
    "metadatas = []\n",
    "\n",
    "for i, record in enumerate(tqdm(ds_combined)):\n",
    "    # first get metadata fields for this record\n",
    "    metadata = {\n",
    "        'reviewid': record['reviewid'],\n",
    "        'source': record['url'],\n",
    "        'title': record['title'],\n",
    "        'artist': record['artist'],\n",
    "        'url': record['url'],\n",
    "        'score': record['score'],\n",
    "        'author': record['author'],\n",
    "        'pub_date': record['pub_date'],\n",
    "        'text': record['text']\n",
    "    }\n",
    "    \n",
    "    # now we create chunks from the record text\n",
    "    record_texts = text_splitter.split_text(record['content'])\n",
    "\n",
    "    # create individual metadata dicts for each chunk\n",
    "    record_metadatas = [{\n",
    "        \"chunk\": j, \"content\": text, **metadata\n",
    "    } for j, text in enumerate(record_texts)]\n",
    "    \n",
    "    # append these to current batches\n",
    "    texts.extend(record_texts)\n",
    "    metadatas.extend(record_metadatas)\n",
    "    \n",
    "    # if we have reached the batch_limit we can add texts\n",
    "    if len(texts) >= batch_limit:\n",
    "        ids = [str(uuid4()) for _ in range(len(texts))]\n",
    "        embeds = embed.embed_documents(texts)\n",
    "        index.upsert(vectors=zip(ids, embeds, metadatas))\n",
    "        texts = []\n",
    "        metadatas = []\n",
    "        time.sleep(1)\n",
    "\n",
    "if len(texts) > 0:\n",
    "    ids = [str(uuid4()) for _ in range(len(texts))]\n",
    "    embeds = embed.embed_documents(texts)\n",
    "    index.upsert(vectors=zip(ids, embeds, metadatas))"
   ]
  },
  {
   "cell_type": "code",
   "execution_count": 27,
   "metadata": {},
   "outputs": [
    {
     "data": {
      "text/plain": [
       "{'dimension': 1536,\n",
       " 'index_fullness': 0.2,\n",
       " 'namespaces': {'': {'vector_count': 76735}},\n",
       " 'total_vector_count': 76735}"
      ]
     },
     "execution_count": 27,
     "metadata": {},
     "output_type": "execute_result"
    }
   ],
   "source": [
    "index.describe_index_stats()"
   ]
  },
  {
   "attachments": {},
   "cell_type": "markdown",
   "metadata": {},
   "source": [
    "<br /><br />\n",
    "\n",
    "## creating a vector store + querying\n",
    "\n",
    "Now that we've build our index we can switch back over to LangChain. We start by initializing a vector store using the same index we just built. "
   ]
  },
  {
   "cell_type": "code",
   "execution_count": 24,
   "metadata": {},
   "outputs": [],
   "source": [
    "from langchain.vectorstores import Pinecone\n",
    "\n",
    "text_field = \"content\"\n",
    "\n",
    "# switch back to normal index for langchain\n",
    "index = pinecone.Index(index_name)\n",
    "\n",
    "vectorstore = Pinecone(\n",
    "    index, embed.embed_query, text_field\n",
    ")"
   ]
  },
  {
   "attachments": {},
   "cell_type": "markdown",
   "metadata": {},
   "source": [
    "### testing"
   ]
  },
  {
   "cell_type": "code",
   "execution_count": 25,
   "metadata": {},
   "outputs": [
    {
     "data": {
      "text/plain": [
       "[Document(page_content='For their first three albums, you could count on Massive Attack to make music that was as intense as it was graceful. As the moods of their albums gradually transitioned from refined soul to grimy abrasion on Blue Lines, Protection, and Mezzanine, they used that balance to toy with the emotional structure of their sound. The result was some of the decade\\'s most haunting, forward-thinking music. Depending on how and when you listen, the same Massive Attack song can creep you out, fill you with sorrow, or send you into a deep reverie. The best ones do it all at once.Many fans consider what little music Massive Attack released since Mezzanine to be a retreat of sorts, and it\\'s true that they may have lost something with each original member that split off-- namely the hip-hop sensibility of Andrew \"Mushroom\" Vowles and the frigid snarl of Grant \"Daddy G\"\\xa0Marshall. Their next release, 2003\\'s 100th Window, seemed like a creative holding pattern brought on by the group\\'s', metadata={'artist': 'massive attack', 'author': 'nate patrin', 'chunk': 0.0, 'pub_date': datetime.date(2010, 2, 9), 'reviewid': 13864.0, 'score': 5.0, 'source': 'http://pitchfork.com/reviews/albums/13864-heligoland/', 'text': 'For their first three albums, you could count on Massive Attack to make music that was as intense as it was graceful. As the moods of their albums gradually transitioned from refined soul to grimy abrasion on Blue Lines, Protection, and Mezzanine, they used that balance to toy with the emotional structure of their sound. The result was some of the decade\\'s most haunting, forward-thinking music. Depending on how and when you listen, the same Massive Attack song can creep you out, fill you with sorrow, or send you into a deep reverie. The best ones do it all at once.Many fans consider what little music Massive Attack released since Mezzanine to be a retreat of sorts, and it\\'s true that they may have lost something with each original member that split off-- namely the hip-hop sensibility of Andrew \"Mushroom\" Vowles and the frigid snarl of Grant \"Daddy G\"\\xa0Marshall. Their next release, 2003\\'s 100th Window, seemed like a creative holding pattern brought on by the group\\'s personnel situation, but it did have a few moments of sinister beauty. Heligoland-- the first non-soundtrack Massive Attack album in seven years and the first with Daddy G back on board in 12-- misses that quality. The undercurrent of menace and sadness that defined Massive Attack\\'s best music is largely absent, replaced with a drowsy, half-formed gloom that, if anything, suggests resignation instead of dread.Last fall\\'s Splitting the Atom EP offered a couple of warning signs that reappear on this album. \"Pray for Rain\" is a woozy, overlong dirge redeemed only by Tunde Adebimpe\\'s rich voice, the only instrument that bothers with anything approaching dynamics. And the EP\\'s title track, which reunited the voices of Daddy G, Horace Andy, and Robert \"3D\" Del Naja over achy-kneed downtempo electro, just blithely rotates in place alongside a dead-eyed organ riff like a beat-to-shit merry-go-round. The potential of both these tracks-- strong vocalists carrying a sense of weariness over bleak ambiance-- is sabotaged by the music\\'s unwillingness to rise, crest, and fall, to shift momentum or volume, to do anything more than sulk in the background with its hands in its pockets, kicking at the ground.That problem becomes more obvious throughout the rest of the album, especially when you\\'re hit with one of its exceptions. \"Girl I Love You\" is a bracing embodiment of everything that made those classic Horace Andy-fronted Massive Attack tracks so great: a half-Reznor, half-Gaye backbeat; ghostly filtered guitars and snarling blasts of brass; that exceptional voice transfusing vintage lover\\'s rock into harrowing cries for help. It completely annihilates nearly everything else on the album: the watery, choppy acoustic guitar loops that underpin Martina Topley-Bird on \"Psyche\", which sound like something Dan Deacon would come up with if he was scared of being abrasive; the listless half-skank of Hope Sandoval spotlight \"Paradise Circus\"; the Damon Albarn-feels-sad moment \"Saturday Come Slow\", which sounds kind of like Blur\\'s \"Sweet Song\" with all the hope drained out.And note those names,\\xa090s icons all-- they\\'re a quick and easy shorthand if you need to point out how little Heligoland engages with current music. Since 100th Window, the post-hip-hop landscape of bass music has extrapolated into an endlessly creative nebula of dubstep, wonky, UK funky, Balearic, and other rich veins of style. And how does this album engage with it? By closing out with a track, \"Atlas Air\", that sounds kind of like Aeroplane bliss-disco trying to be as creepy as the Knife. Elsewhere, we get a flimsy New Order pastiche (\"Rush Minute\") and glitchy quasi-jungle (\"Babel\") to show for it. Burial\\'s been given these tracks for a potential No Protection treatment, so there\\'s that, at least, but it\\'s a shame to think that it\\'ll take an outside producer to salvage this stuff rather than simply reinterpret it.So what does an album this defeatist-sounding have to say? It just so happens to come at a time where defeatism feels pretty natural, and ironically that makes these songs feel even harder to relate to. When Daddy G mutters despairingly how there\\'s \"No hope without dope/ The jobless return/ The bankers have bailed\" on \"Splitting the Atom\"\\xa0or Elbow\\'s Guy Garvey moans fearfully about home insecurity\\xa0on \"Flat of the Blade\", it feels of-the-moment-- but part of a moment you want to break out of because the malaise feels suffocating. Anxiety is one thing, hopelessness is another entirely. And when your whole world can feel, in the words of \"Pray for Rain\", like a \"dull residue of what once was,\" it\\'s probably better to wait for an album that can\\'t be described the same way.', 'title': 'heligoland', 'url': 'http://pitchfork.com/reviews/albums/13864-heligoland/'}),\n",
       " Document(page_content=\"Unlike their Bristol contemporaries-- Tricky with a steady stream of new mediocre albums; Portishead with a long, long layoff that led to an unexpected and masterful reinvention-- Massive Attack have spent the past 15 years working in brief, intermittent bursts of productivity. Five years separated Mezzanine from 100th Window, and then another seven elapsed before this year's\\xa0Heligoland. They filled the gaps with soundtrack work, but when it comes to Massive Attack the pop group, their albums are still infrequent enough to be sold as events, built up by singles featuring remixes by artists that let the band add the flavor of the current moment, whether that's micro-house circa 100th Window or spacey electronic disco circa now.The problem is that, as events, these albums have fallen flat.  The remixes on the singles are usually more exciting, and certainly fresher, than the music Massive themselves have released in the 21st century. The band seems stuck in a holding pattern-- not quite as\", metadata={'artist': 'massive attack', 'author': 'jess harvell', 'chunk': 0.0, 'pub_date': datetime.date(2010, 11, 22), 'reviewid': 14881.0, 'score': 5.0, 'source': 'http://pitchfork.com/reviews/albums/14881-atlas-air-ep/', 'text': 'Unlike their Bristol contemporaries-- Tricky with a steady stream of new mediocre albums; Portishead with a long, long layoff that led to an unexpected and masterful reinvention-- Massive Attack have spent the past 15 years working in brief, intermittent bursts of productivity. Five years separated Mezzanine from 100th Window, and then another seven elapsed before this year\\'s\\xa0Heligoland. They filled the gaps with soundtrack work, but when it comes to Massive Attack the pop group, their albums are still infrequent enough to be sold as events, built up by singles featuring remixes by artists that let the band add the flavor of the current moment, whether that\\'s micro-house circa 100th Window or spacey electronic disco circa now.The problem is that, as events, these albums have fallen flat.  The remixes on the singles are usually more exciting, and certainly fresher, than the music Massive themselves have released in the 21st century. The band seems stuck in a holding pattern-- not quite as glibly self-parodic as Tricky but afraid to fully make themselves over like Portishead-- that\\'s led to albums that sound just enough like Massive\\'s classics not to feel totally burned and not quite different enough to justify listening to them over Protection. The sense of adventure is gone, the feeling that Massive not only could but must take their own music somewhere new. Best leave it to the younger, less resigned-to-their-sound artists to fill that feeling back in, as with the remix EP that added some unexpected angles to Heligoland earlier this year.The Atlas Air EP doesn\\'t feel quite as essential as that, but then the shtick-like \"Massive-style\" dread of Heligoland was often so bland that any little spark of invention felt like an improvement. Though there\\'s a charity slant to this EP, it still feels like something snuck out near the end of the year to extend the album\\'s life a bit. Even if the intentions were that crass, and I\\'m not saying they are, these remixes improve on the original \"Atlas Air\", which pulsed along soporifically on a slow-mo disco beat so by-the-numbers it was almost shameful. Tim Goldsworthy\\'s rework turns it into truly cosmic dance music and Jneiro Jarel\\'s makeover drops the tempo into a FlyLo/Brainfeeder trip-hop lurch, both filling in the clichéd \"dark\" negative space of the original with bright waves of almost kraut-ish synth dissonance. They\\'re actually eerie but also lovely, where the original felt like it was trying for both but not very hard.In all cases, the remixers seem to have a better grasp on giving shape and drama to tracks via electronic texture than their benefactors do these days. That\\'s doubly a shame considering Massive were once masters at the very same thing; even their instrumentals were memorable, thick and richly detailed and gorgeously skirting the line between dreamy and abrasive. None of the remixes on Atlas Air is mind-blowing-- they\\'re passable-to-good by the standards the producers have set-- but they\\'re definite improvements on the bare-bones original. Which probably proves little but how sadly comfortable Massive are now with just getting by, with letting their followers do the heavy lifting.', 'title': 'atlas air ep', 'url': 'http://pitchfork.com/reviews/albums/14881-atlas-air-ep/'}),\n",
       " Document(page_content='Listening to Massive Attack\\'s debut album, Blue Lines, 21 years after its initial release is like reading an old William Gibson novel that describes the then-near future, which is now the present, with unsettling precision. Nearly every song offers a sound currently in use in music\\'s taste-making leading edge. Robert \"3D\" Del Naja\\'s chopped-up vocals on the album-opening \"Safe From Harm\" sound freakishly like the chorus to Kanye et al\\'s \"Mercy\" (even if Ye actually lifted it from DJ Screw, who was developing his idiosyncratic style 5,000 miles away from Bristol, England at almost the exact same time Massive were recording Blue Lines). The chunky, palm-muted guitar riff on \"One Love\" is almost identical to the one on \"Ahh Shit\" from Jeremih\\'s brilliant Late Nights with Jeremih. The subzero space-reggae beat to \"Five Man Army\" could easily be a highlight of any number of fashionable rappers\\' mixtapes.\\xa0When Del Najas, Grant \"Daddy G\"', metadata={'artist': 'massive attack', 'author': 'miles raymer', 'chunk': 0.0, 'pub_date': datetime.date(2012, 11, 30), 'reviewid': 17384.0, 'score': 9.0, 'source': 'http://pitchfork.com/reviews/albums/17384-blue-lines-remastered-box-set/', 'text': 'Listening to Massive Attack\\'s debut album, Blue Lines, 21 years after its initial release is like reading an old William Gibson novel that describes the then-near future, which is now the present, with unsettling precision. Nearly every song offers a sound currently in use in music\\'s taste-making leading edge. Robert \"3D\" Del Naja\\'s chopped-up vocals on the album-opening \"Safe From Harm\" sound freakishly like the chorus to Kanye et al\\'s \"Mercy\" (even if Ye actually lifted it from DJ Screw, who was developing his idiosyncratic style 5,000 miles away from Bristol, England at almost the exact same time Massive were recording Blue Lines). The chunky, palm-muted guitar riff on \"One Love\" is almost identical to the one on \"Ahh Shit\" from Jeremih\\'s brilliant Late Nights with Jeremih. The subzero space-reggae beat to \"Five Man Army\" could easily be a highlight of any number of fashionable rappers\\' mixtapes.\\xa0When Del Najas, Grant \"Daddy G\" Marshall, and Andrew \"Mushroom\" Vowles were recording Blue Lines, the sub-genre called trip-hop hadn\\'t been invented. But at its heart, Blue Lines is a hip-hop record, although one marbled with streaks of soul, dub, dance music, and psychedelic rock. The fact that its primary audience in America was made up largely of ravers and alternative rockers doesn\\'t change that. And their accomplishments stand out even further next to what was happening elsewhere in the hip-hop world at the time. Straight Outta Compton, It Takes a Nation of Millions to Hold Us Back, Paul\\'s Boutique, and 3 Feet High and Rising were all still just a few of years old in 1991, and so was the idea of beatmaking as an art unto itself. The blocky rhythms and minimal arrangements that defined rap\\'s identity in the 1980s were just starting to be replaced by the deep, organic textures that would define its 90s, and Blue Lines was at the forefront.\\xa0When Massive Attack first arrived, hip-hop in the UK was still figuring itself out. For years the scene there, such as it was, focused mainly on reproducing trends that had already fallen out of fashion by the time they made it across the Atlantic. That lack of identity was probably an asset for Massive Attack. They didn\\'t have to compete against their contemporaries to see who could sample which Jimmy Castor Bunch break first, or worry about conforming to any outsider whose preconceptions about hip-hop authenticity might not include prog-rock samples or a lush chill-out anthem like \"Unfinished Sympathy\". Another asset was Neneh Cherry, whose Raw Like Sushi, which Del Naja and Vowles worked on, provided a genre-bending inspiration for Blue Lines, as well as a bankroll to record it. (Cherry even paid the group a salary and let them turn her kid\\'s bedroom into an impromptu studio.)In fact, those Raw Like Sushi credits (Vowles\\' for programming, Del Naja\\'s for co-writing \"Manchild\") were the only real music-industry bona fides any of the principal contributors to Blue Lines had going into it, aside from vocalists Shara Nelson and roots reggae veteran Horace Andy. But somehow the group realized a remarkable and seamless sonic identity. That\\'s clear from the arresting opener \"Safe From Harm\", which spins an aggressive drumbeat, Del Naja\\'s rap, Nelson\\'s soulful vocals, and a mist of sustained minor-key synths around an intimidatingly muscular bass loop. From that moment, every major part of the Massive Attack profile is already present, from the collaging of genres to the spacious, nocturnal sonic environment to the heavy dose of paranoia that permeates it all.They spend the rest of the album exploring variations on these themes. \"One Love,\" with Andy on vocals, has a digital dancehall feel, a creepy-funky electric piano riff, and a scratched sample of a blaring horn section that predates Pharoahe Monch\\'s \"Simon Says\" by almost a decade. \"Daydreaming\", with its scratchy breakbeat drums, is more directly hip-hop than most of the rest of the album, but the layers of atmospheric synthesizers and Tricky\\'s felonious near-whisper make it clear that Massive Attack was up to something entirely different from what every other rap producer at the time was doing.Blue Lines brought producers around to its unique vision. By the time Massive released Protection three years later, the group\\'s renegade approach had been copied enough times to become a full-on movement. They\\'d go on to produce their masterpiece, Mezzanine, a couple of years after, but by then the project had already started to splinter. Tricky split from the collective after Protection to follow his own solo vision, while the core trio behind it would eventually burn out acrimoniously, with Vowles and then Marshall leaving Del Naja to produce increasingly less rewarding music under the group\\'s name. Meanwhile, trip-hop in general had its edges polished off by genteel musicians who transformed it into soundtracks for fashionable hotel lobbies.Still, that doesn\\'t change the fact that Blue Lines was a startling record when it came out, and it remains one now. For this reissue it received a new mix and a new mastering job straight from the original tapes. It\\'s available as a CD, in digital form in standard and high fidelity formats, and as a set of two LPs and a DVD of high resolution audio files. There aren\\'t any bonus tracks, and aside from a reproduction promo poster in the vinyl edition there aren\\'t any add-ons either. Frankly they\\'d just be a distraction from the underlying theme that becomes clear once you get absorbed into the music, which is that Blue Lines is still Blue Lines, and most of the world is still trying to catch up to it.\\xa0', 'title': 'blue lines', 'url': 'http://pitchfork.com/reviews/albums/17384-blue-lines-remastered-box-set/'})]"
      ]
     },
     "execution_count": 25,
     "metadata": {},
     "output_type": "execute_result"
    }
   ],
   "source": [
    "query = \"what is massive attack's music like?\"\n",
    "\n",
    "vectorstore.similarity_search(\n",
    "    query,  # our search query\n",
    "    k=3  # return 3 most relevant docs\n",
    ")"
   ]
  },
  {
   "attachments": {},
   "cell_type": "markdown",
   "metadata": {},
   "source": [
    "<br /><br />\n",
    "\n",
    "# Generative Question-Answering\n",
    "\n",
    "https://docs.pinecone.io/docs/langchain-retrieval-augmentation#generative-question-answering\n",
    "\n",
    "in GQA we take the query as a question that is to be answered by a LLM, but the LLM must answer the question based on the information it is seeing being returned from the vectorstore.\n",
    "\n",
    "include the sources of information that the LLM is using to answer the question. do this using a slightly different version of `RetrievalQA`: `RetrievalQAWithSourcesChain`"
   ]
  },
  {
   "cell_type": "code",
   "execution_count": 28,
   "metadata": {},
   "outputs": [
    {
     "data": {
      "text/plain": [
       "{'question': \"what is massive attack's music like?\",\n",
       " 'answer': \"Massive Attack's music is intense, haunting, forward-thinking, and can evoke a range of emotions. Some fans consider their music since Mezzanine to be a retreat, and their albums are infrequent enough to be sold as events. Their debut album, Blue Lines, is still relevant and influential today. Their more recent releases have been criticized for being mediocre and lacking freshness. The Danny the Dog soundtrack features plodding downtempo and leftfield horse tranquilizers. \\n\",\n",
       " 'sources': 'http://pitchfork.com/reviews/albums/13864-heligoland/, http://pitchfork.com/reviews/albums/14881-atlas-air-ep/, http://pitchfork.com/reviews/albums/17384-blue-lines-remastered-box-set/, http://pitchfork.com/reviews/albums/5136-danny-the-dog-ost/'}"
      ]
     },
     "execution_count": 28,
     "metadata": {},
     "output_type": "execute_result"
    }
   ],
   "source": [
    "from langchain.chat_models import ChatOpenAI\n",
    "from langchain.chains import RetrievalQAWithSourcesChain\n",
    "\n",
    "llm = ChatOpenAI(\n",
    "    openai_api_key=OPENAI_API_KEY,\n",
    "    model_name='gpt-3.5-turbo',\n",
    "    temperature=0.0\n",
    ")\n",
    "\n",
    "qa_with_sources = RetrievalQAWithSourcesChain.from_chain_type(\n",
    "    llm=llm,\n",
    "    chain_type=\"stuff\",\n",
    "    retriever=vectorstore.as_retriever()\n",
    ")\n",
    "\n",
    "qa_with_sources(query)"
   ]
  }
 ],
 "metadata": {
  "kernelspec": {
   "display_name": ".venv",
   "language": "python",
   "name": "python3"
  },
  "language_info": {
   "codemirror_mode": {
    "name": "ipython",
    "version": 3
   },
   "file_extension": ".py",
   "mimetype": "text/x-python",
   "name": "python",
   "nbconvert_exporter": "python",
   "pygments_lexer": "ipython3",
   "version": "3.11.1"
  },
  "orig_nbformat": 4
 },
 "nbformat": 4,
 "nbformat_minor": 2
}
